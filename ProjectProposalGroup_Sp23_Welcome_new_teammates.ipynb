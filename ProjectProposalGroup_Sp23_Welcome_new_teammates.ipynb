{
  "cells": [
    {
      "cell_type": "markdown",
      "metadata": {},
      "source": [
        "# COGS 108 - Final Project Proposal"
      ]
    },
    {
      "cell_type": "markdown",
      "metadata": {},
      "source": [
        "# Names\n",
        "\n",
        "- Chia Long Lin\n",
        "- Gabriel Leong\n",
        "- Ingrid Chu\n",
        "- Ryan Pham\n",
        "- Dong Bin Lee"
      ]
    },
    {
      "cell_type": "markdown",
      "metadata": {},
      "source": [
        "# Research Question"
      ]
    },
    {
      "cell_type": "markdown",
      "metadata": {},
      "source": [
        "-  Include a specific, clear data science question.\n",
        "-  Make sure what you're measuring (variables) to answer the question is clear\n",
        "\n",
        "How has the rise of TikTok affected people's attention span? How has it affected other platforms' user engagement such as YouTube?\n",
        "\n"
      ]
    },
    {
      "cell_type": "markdown",
      "metadata": {},
      "source": [
        "## Background and Prior Work"
      ]
    },
    {
      "cell_type": "markdown",
      "metadata": {},
      "source": [
        "\n",
        "The meteoric rise of TikTok has been a shock to many individuals and companies alike. TikTok’s ever increasing popularity has found itself becoming ubiquitous on the average American citizen’s smartphone. But its popularity brought itself onto the forefront of many debates from security and privacy issues to whether or not it contributes to the decrease of attention span of the modern populace. It has risen to the top three of many people’s list of most frequently used social media apps [1], which has caught the attention of many platforms wanting to ride on TikTok’s success by copying its formula, one of which is YouTube. YouTube released their YouTube Shorts in a response to TikTok’s success.\n",
        "\n",
        "Previous outside studies have found that TikTok does indeed have negative effects towards attention span [2]. This is done through the infinite scroll feature and powerful algorithm accompanying it to feed users content streamlined to them. The article also points out that some people “reported that they used to watch a 10-30 minute video in the past but have now found themselves losing interest in a matter of a few minutes.”\n",
        "\n",
        "Our group wanted to explore the effect TikTok has had on the attention spans of individuals who used the app and compare it to how users interact with YouTube now. Specifically, we want to see how YouTube’s video formats have changed and how long users spent time watching videos from before TikTok’s popularity to now.\n",
        "\n",
        "[1]: Anwar, Dr. Hura, and Dr. Hura AnwarA dental surgeon by profession and a freelance content writer by passion. “The Most Used Social Media Platforms According to Age Group for 2023 in Perspective.” Digital Information World, 12 Apr. 2023, https://www.digitalinformationworld.com/2023/04/the-most-used-social-media-platforms.html \n",
        "\n",
        "[2]: Marston, Heather. “[2023] YouTube Shorts vs TikTok: Which One Is Better.” Imyfone, https://www.imyfone.com/make-video/youtube-shorts-tiktok/. \n"
      ]
    },
    {
      "cell_type": "markdown",
      "metadata": {},
      "source": [
        "# Hypothesis\n"
      ]
    },
    {
      "cell_type": "markdown",
      "metadata": {},
      "source": [
        "\n",
        "- Include your team's hypothesis\n",
        "- Ensure that this hypothesis is clear to readers\n",
        "- Explain why you think this will be the outcome (what was your thinking?)\n",
        "\n",
        "hypothesis/predictions: We think that the rise of TikTok has led to a decrease in people's attention span due to its short-form content format, and this impact will likely decrease the users engagement on longer-format platforms like YouTube because the rapid pace and easy-to-catch content of TikTok videos reinforces shorter attention spans."
      ]
    },
    {
      "cell_type": "markdown",
      "metadata": {},
      "source": [
        "# Data"
      ]
    },
    {
      "cell_type": "markdown",
      "metadata": {},
      "source": [
        "1. Explain what the **ideal** dataset you would want to answer this question. (This should include: What variables? How many observations? Who/what/how would these data be collected? How would these data be stored/organized?)\n",
        "- Demographics: Age, gender, and location of users for both TikTok and YouTube.\n",
        "- TikTok data: Number of daily active users, average time spent on the app per user, and average video length.\n",
        "- YouTube data: Number of daily active users, average time spent on the app per user, and average video length.\n",
        "- Attention span data: Standardized attention span measurements for a representative sample of TikTok and YouTube users, collected over time.\n",
        "- User engagement data: Metrics such as likes, comments, shares, and watch time for both platforms.\n",
        "- Timeframe: Data should be collected before and after the rise of TikTok, with at least a few years of data points for a robust analysis.\n",
        "- Number of observations: Ideally, the dataset should include a large sample size, with thousands or millions of users, to ensure the findings are statistically significant and generalizable.\n",
        "1. Search for potential **real** datasets that could provide you with something useful for this project.  You do not have to find every piece of data you will use, but you do need to have demonstrated some idea that (a) this data is gettable and (b) that this data may be different from what your ideal is"
      ]
    },
    {
      "cell_type": "markdown",
      "metadata": {},
      "source": [
        "# Ethics & Privacy"
      ]
    },
    {
      "cell_type": "markdown",
      "metadata": {},
      "source": [
        "- Thoughtful discussion of ethical concerns included\n",
        "- Ethical concerns consider the whole data science process (question asked, data collected, data being used, the bias in data, analysis, post-analysis, etc.)\n",
        "- How your group handled bias/ethical concerns clearly described\n",
        "\n",
        "Acknowledge and address any ethics & privacy related issues of your question(s), proposed dataset(s), and/or analyses. Use the information provided in lecture to guide your group discussion and thinking. If you need further guidance, check out [Deon's Ethics Checklist](http://deon.drivendata.org/#data-science-ethics-checklist). In particular:\n",
        "\n",
        "- Are there any biases/privacy/terms of use issues with the data you propsed?\n",
        "- Are there potential biases in your dataset(s), in terms of who it composes, and how it was collected, that may be problematic in terms of it allowing for equitable analysis? (For example, does your data exclude particular populations, or is it likely to reflect particular human biases in a way that could be a problem?)\n",
        "- How will you set out to detect these specific biases before, during, and after/when communicating your analysis?\n",
        "- Are there any other issues related to your topic area, data, and/or analyses that are potentially problematic in terms of data privacy and equitable impact?\n",
        "- How will you handle issues you identified?\n",
        "\n",
        "Ethical concerns:\n",
        "- Collecting data from TikTok and YouTube users might raise privacy concerns, especially if personal information is involved. To avoid this, we can anonymize the data by removing any information that can be used to identify any users so that we can protect users' privacy.\n",
        "- Our dataset might not accurately represent reality due to demographic bias inherent in different social media platforms' user bases. This could skew results unfairly by under or over representing certain age groups, ethnicities or genders. Collecting representative data from various sources across diverse populations can mitigate these risks while providing greater insights into reality than relying solely on one group type of population.\n",
        "- Algorithms used in data processing inherently run the risk of inducing unintentional bias towards specific groups based on pre existing models that might have their own biases and sampling errors within them. Transparency in our algorithm choice prevents negative outcomes due to potential sampling errors caused by biased algorithms.\n",
        "- Human interpretation risks introducing bias into our results, which could lead to unfair findings. To counter this we'll encourage open discussions within the team and invite external feedback. Transparency ensures that all voices are heard while identifying any biases early enough to adjust appropriately.\n"
      ]
    },
    {
      "cell_type": "markdown",
      "metadata": {},
      "source": [
        "# Team Expectations "
      ]
    },
    {
      "cell_type": "markdown",
      "metadata": {},
      "source": [
        "\n",
        "* Weekly Zoom meetings will be at 6PM every Wednesday of the quarter. Please show up on time\n",
        "* Tasks will be equally delegated within each meeting. It's expected to complete your task by the next meeting\n",
        "* Every other member should QA on each other's work; E.g. Code, analysis, etc\n",
        "* If an unexpected event occurs, please let the other members know\n",
        "* Ask for help in the groupchat if needed.\n"
      ]
    },
    {
      "cell_type": "markdown",
      "metadata": {},
      "source": [
        "# Project Timeline Proposal"
      ]
    },
    {
      "cell_type": "markdown",
      "metadata": {},
      "source": [
        "\n",
        "| Meeting Date  | Meeting Time| Completed Before Meeting  | Discuss at Meeting |\n",
        "|---|---|---|---|\n",
        "| 5/3  |  6 PM | Brainstorm topics and do initial research  | Finalize Project Proposal |\n",
        "| 5/10  |  6 PM | Find potential datasets to work with  | Finalize datasets. Start working on Data Checkpoint |\n",
        "| 5/17  |  6 PM | Work on Data Checkpoint; Work on Setup code and Data Cleaning steps  | Finalize Data Checkpoint and turn in |\n",
        "| 5/24  |  6 PM | Data wrangle datasets  | Discuss and analyize wrangled data. Review and edit wrangling |\n",
        "| 5/31  |  6 PM | Start analysis and finalize EDA Checkpoint  | Discuss analysis and turn in EDA Checkpoint |\n",
        "| 6/7  |  6 PM | Complete analysis, results, conclusion and discussion  | Finalize and edit full project with analysis |\n",
        "| 6/14  |  6 PM | Record individual parts for Video Presentation  | Edit Video Presentation together |\n",
        "| 6/16  | Before 11:59 PM  | NA | Turn in Final Project, Video Presentation & Group Project Surveys |"
      ]
    }
  ],
  "metadata": {
    "kernelspec": {
      "display_name": "Python 3",
      "language": "python",
      "name": "python3"
    },
    "language_info": {
      "codemirror_mode": {
        "name": "ipython",
        "version": 3
      },
      "file_extension": ".py",
      "mimetype": "text/x-python",
      "name": "python",
      "nbconvert_exporter": "python",
      "pygments_lexer": "ipython3",
      "version": "3.11.0 (v3.11.0:deaf509e8f, Oct 24 2022, 14:43:23) [Clang 13.0.0 (clang-1300.0.29.30)]"
    },
    "vscode": {
      "interpreter": {
        "hash": "aee8b7b246df8f9039afb4144a1f6fd8d2ca17a180786b69acc140d282b71a49"
      }
    }
  },
  "nbformat": 4,
  "nbformat_minor": 2
}
